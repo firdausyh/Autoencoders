{
 "cells": [
  {
   "cell_type": "code",
   "execution_count": 1,
   "metadata": {},
   "outputs": [
    {
     "name": "stderr",
     "output_type": "stream",
     "text": [
      "Using TensorFlow backend.\n"
     ]
    }
   ],
   "source": [
    "\n",
    "# coding: utf-8\n",
    "\n",
    "# # First, let’s implement the encoder net Q(z|X), which takes input X and outputting two things: μ(X) and Σ(X), the parameters of the Gaussian.\n",
    "\n",
    "# In[1]:\n",
    "\n",
    "\n",
    "from tensorflow.examples.tutorials.mnist import input_data\n",
    "from keras.layers import Input, Dense, Lambda, Conv2D, MaxPooling2D, UpSampling2D,Lambda, Flatten, Reshape, Activation\n",
    "from keras.models import Model\n",
    "from keras.objectives import binary_crossentropy\n",
    "from keras.callbacks import LearningRateScheduler\n",
    "from keras.utils.generic_utils import get_custom_objects\n",
    "\n"
   ]
  },
  {
   "cell_type": "code",
   "execution_count": 2,
   "metadata": {
    "collapsed": true
   },
   "outputs": [],
   "source": [
    "# In[2]:\n",
    "\n",
    "\n",
    "import numpy as np\n",
    "import matplotlib.pyplot as plt\n",
    "import keras.backend as K\n",
    "import tensorflow as tf\n",
    "\n",
    "\n",
    "# In[3]:\n",
    "\n",
    "\n",
    "# m : batch size\n",
    "m = 50   \n",
    "# n_z : latent dimension\n",
    "n_z = 2\n",
    "# n_epoch : number of epoches for iterations\n",
    "n_epoch = 10\n",
    "\n",
    "epsilon_std=1.0\n",
    "# intermediate_dim = 512\n",
    "\n"
   ]
  },
  {
   "cell_type": "code",
   "execution_count": 3,
   "metadata": {},
   "outputs": [],
   "source": [
    "#define new lrelu function\n",
    "def lrelu(x, alpha=0.3):\n",
    "    return tf.maximum(x, tf.multiply(x, alpha))\n",
    "\n",
    "get_custom_objects().update({'lrelu': Activation(lrelu)})"
   ]
  },
  {
   "cell_type": "code",
   "execution_count": 4,
   "metadata": {},
   "outputs": [],
   "source": [
    "# Q(z|X) -- encoder\n",
    "inputs = Input(shape=(28,28,1))\n",
    "x = Conv2D(16, (3, 3), activation='lrelu', padding='same')(inputs)\n",
    "x = MaxPooling2D((2, 2))(x)\n",
    "x = Conv2D(8, (3, 3), activation='lrelu', padding='same')(x)\n",
    "x = MaxPooling2D((2, 2))(x)\n",
    "x = Conv2D(8, (3, 3), activation='lrelu', padding='same')(x)\n",
    "encoded = MaxPooling2D((2, 2), padding ='same')(x)\n",
    "\n",
    "\n"
   ]
  },
  {
   "cell_type": "code",
   "execution_count": 5,
   "metadata": {
    "collapsed": true
   },
   "outputs": [],
   "source": [
    "# P(X|z) -- decoder\n",
    "x = Conv2D(8, (3, 3), activation='lrelu', padding='same')(encoded)\n",
    "x = UpSampling2D((2, 2))(x)\n",
    "x = Conv2D(8, (3, 3), activation='lrelu', padding='same')(x)\n",
    "x = UpSampling2D((2, 2))(x)\n",
    "x = Conv2D(16, (3, 3), activation='lrelu')(x)\n",
    "x = UpSampling2D((2, 2))(x)\n",
    "outputs = Conv2D(1, (3, 3), activation='sigmoid', padding='same')(x)\n"
   ]
  },
  {
   "cell_type": "code",
   "execution_count": 7,
   "metadata": {},
   "outputs": [],
   "source": [
    "\n",
    "autoencoder = Model(inputs, outputs)\n",
    "encoder = Model(inputs, encoded)\n",
    "\n",
    "autoencoder.compile(optimizer='adam', loss='binary_crossentropy')\n"
   ]
  },
  {
   "cell_type": "code",
   "execution_count": 8,
   "metadata": {},
   "outputs": [
    {
     "name": "stdout",
     "output_type": "stream",
     "text": [
      "(60000, 28, 28, 1)\n",
      "(10000, 28, 28, 1)\n"
     ]
    }
   ],
   "source": [
    "from keras.datasets import mnist\n",
    "import numpy as np\n",
    "(x_train, _), (x_test, y_test) = mnist.load_data()\n",
    "\n",
    "\n",
    "x_train = x_train.astype('float32') / 255.\n",
    "x_test = x_test.astype('float32') / 255.\n",
    "x_train = x_train.reshape((len(x_train), 28,28,1))\n",
    "x_test = x_test.reshape((len(x_test), 28,28,1))\n",
    "\n",
    "print (x_train.shape)\n",
    "print (x_test.shape)\n",
    "\n",
    "\n",
    "# In[14]:\n",
    "\n",
    "\n"
   ]
  },
  {
   "cell_type": "code",
   "execution_count": 9,
   "metadata": {},
   "outputs": [
    {
     "name": "stdout",
     "output_type": "stream",
     "text": [
      "Train on 60000 samples, validate on 10000 samples\n",
      "Epoch 1/10\n",
      "60000/60000 [==============================] - 163s - loss: 0.1722 - val_loss: 0.1284\n",
      "Epoch 2/10\n",
      "60000/60000 [==============================] - 160s - loss: 0.1222 - val_loss: 0.1154\n",
      "Epoch 3/10\n",
      "60000/60000 [==============================] - 150s - loss: 0.1133 - val_loss: 0.1093\n",
      "Epoch 4/10\n",
      "60000/60000 [==============================] - 149s - loss: 0.1080 - val_loss: 0.1050\n",
      "Epoch 5/10\n",
      "60000/60000 [==============================] - 150s - loss: 0.1046 - val_loss: 0.1047\n",
      "Epoch 6/10\n",
      "60000/60000 [==============================] - 155s - loss: 0.1022 - val_loss: 0.0998\n",
      "Epoch 7/10\n",
      "60000/60000 [==============================] - 160s - loss: 0.1002 - val_loss: 0.0977\n",
      "Epoch 8/10\n",
      "60000/60000 [==============================] - 162s - loss: 0.0987 - val_loss: 0.0965\n",
      "Epoch 9/10\n",
      "60000/60000 [==============================] - 168s - loss: 0.0974 - val_loss: 0.0954\n",
      "Epoch 10/10\n",
      "60000/60000 [==============================] - 32484s - loss: 0.0962 - val_loss: 0.0942\n"
     ]
    },
    {
     "data": {
      "text/plain": [
       "<keras.callbacks.History at 0x22f8035f940>"
      ]
     },
     "execution_count": 9,
     "metadata": {},
     "output_type": "execute_result"
    }
   ],
   "source": [
    "autoencoder.fit(x_train, x_train,\n",
    "                epochs=10,\n",
    "                batch_size= m,\n",
    "                validation_data=(x_test, x_test))\n"
   ]
  },
  {
   "cell_type": "code",
   "execution_count": null,
   "metadata": {
    "collapsed": true
   },
   "outputs": [],
   "source": []
  },
  {
   "cell_type": "code",
   "execution_count": null,
   "metadata": {
    "collapsed": true
   },
   "outputs": [],
   "source": []
  }
 ],
 "metadata": {
  "kernelspec": {
   "display_name": "Python 3",
   "language": "python",
   "name": "python3"
  },
  "language_info": {
   "codemirror_mode": {
    "name": "ipython",
    "version": 3
   },
   "file_extension": ".py",
   "mimetype": "text/x-python",
   "name": "python",
   "nbconvert_exporter": "python",
   "pygments_lexer": "ipython3",
   "version": "3.5.2"
  }
 },
 "nbformat": 4,
 "nbformat_minor": 2
}
